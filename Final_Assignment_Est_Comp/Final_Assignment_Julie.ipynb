{
 "cells": [
  {
   "cell_type": "markdown",
   "metadata": {},
   "source": [
    "## Implementação"
   ]
  },
  {
   "cell_type": "code",
   "execution_count": 33,
   "metadata": {},
   "outputs": [],
   "source": [
    "import numpy as np\n",
    "import matplotlib.pyplot as plt\n",
    "from scipy.stats import t\n",
    "import time"
   ]
  },
  {
   "cell_type": "markdown",
   "metadata": {},
   "source": [
    "A implementação foi feita com base no código R disponibilizado pelos autores do artigo."
   ]
  },
  {
   "cell_type": "code",
   "execution_count": 34,
   "metadata": {},
   "outputs": [],
   "source": [
    "# Statistics from the styrene exposure data set\n",
    "yi = np.array([3.302,4.587,5.052,5.089,4.498,5.186,4.915,4.876,5.262,5.009,5.602,4.336,4.813])\n",
    "SST = 11.430\n",
    "SSE = 14.711"
   ]
  },
  {
   "cell_type": "code",
   "execution_count": 35,
   "metadata": {},
   "outputs": [],
   "source": [
    "#função que implementa o método de amostragem Gibbs em blocos\n",
    "def BlockedGibbs(yi, m, SSE, a = -1/2, b = 0, num_it = 1000, burnout = 30):\n",
    "    sigmae_estimation = []\n",
    "    sigmatheta_estimation = []\n",
    "    correlation = []\n",
    "    mean_estimation = []\n",
    "    it = 0\n",
    "    \n",
    "    q = len(yi)\n",
    "    M = q*m\n",
    "    y_bar = np.mean(yi)\n",
    "    \n",
    "    theta =  yi\n",
    "    mu = y_bar\n",
    "    eta = np.append(theta, mu)\n",
    "    \n",
    "    #random seed\n",
    "    matrix = np.append(np.diag(np.ones(q)), -(np.ones((q,1))), axis = 1)\n",
    "    mm = np.transpose(matrix) @ matrix\n",
    "    \n",
    "    w1 = np.transpose(eta) @ mm @ eta\n",
    "    w2 = m*np.transpose(yi-theta) @ (yi-theta)\n",
    "    lt = np.random.gamma(q/2 + a, scale  = 1/((w1/2)))\n",
    "    le = np.random.gamma(M/2 + b, scale  = 1/(((w2 + SSE)/2)))\n",
    "    \n",
    "    for iterations in range(num_it+burnout):\n",
    "        #eta\n",
    "        t = M*lt*le/(lt+m*le)\n",
    "        d = np.sqrt(lt+m*le)\n",
    "        invL = np.diag(np.append(np.ones(q)/d,1/np.sqrt(t)))\n",
    "        invL[-1,:-1] = lt/(d**2*np.sqrt(t))*np.ones(q)\n",
    "        \n",
    "        V = np.transpose(invL) @ invL\n",
    "        etha0 = le*m*V @ np.append(yi, 0)\n",
    "        eta = np.transpose(etha0)+np.transpose(invL) @ np.transpose(np.random.normal(size = q+1))\n",
    "        \n",
    "        #sigma\n",
    "        w1 = np.transpose(eta) @ mm @ eta\n",
    "        w2 = m*np.transpose(yi-eta[:-1]) @ (yi-eta[:-1])\n",
    "        lt = np.random.gamma(q/2 + a, scale  = 1/((w1/2)))\n",
    "        le = np.random.gamma(M/2 + b, scale  = 1/(((w2 + SSE)/2)))\n",
    "        \n",
    "        #aceite ou discarte\n",
    "        it += 1\n",
    "        if it >= burnout:\n",
    "            se = 1/le\n",
    "            st = 1/lt\n",
    "            sigmae_estimation.append(se)\n",
    "            sigmatheta_estimation.append(st)\n",
    "            correlation.append(st/(st + se))\n",
    "    \n",
    "    return sigmae_estimation, sigmatheta_estimation, correlation"
   ]
  },
  {
   "cell_type": "code",
   "execution_count": 36,
   "metadata": {},
   "outputs": [
    {
     "name": "stdout",
     "output_type": "stream",
     "text": [
      "8.088372468948364\n"
     ]
    }
   ],
   "source": [
    "# tempo de execução\n",
    "start = time.time()\n",
    "sigmae_matrix, sigmatheta_matrix, corr_matrix = BlockedGibbs(yi, 3, SSE, a = -1/2, b = 0, num_it = 87169, burnout = 30)\n",
    "end = time.time()\n",
    "print(end-start)"
   ]
  },
  {
   "cell_type": "code",
   "execution_count": 37,
   "metadata": {},
   "outputs": [
    {
     "name": "stdout",
     "output_type": "stream",
     "text": [
      "sigma_theta=  0.186341792230906\n",
      "sigma_e=  0.6211184889008688\n",
      "corr=  0.20880550233203934\n"
     ]
    }
   ],
   "source": [
    "print('sigma_theta= ', np.mean(sigmatheta_matrix)) #, CI(sigmatheta_matrix)) \n",
    "print('sigma_e= ', np.mean(sigmae_matrix)) #, CI(sigmae_matrix)) \n",
    "print('corr= ', np.mean(corr_matrix))#, CI(corr_matrix)) "
   ]
  },
  {
   "cell_type": "code",
   "execution_count": null,
   "metadata": {},
   "outputs": [],
   "source": [
    "# calculo da variância assintótica\n"
   ]
  },
  {
   "cell_type": "code",
   "execution_count": 38,
   "metadata": {},
   "outputs": [],
   "source": [
    "# MCSE\n",
    "def mcse(matrix, k = 20):\n",
    "    mean  = np.mean(matrix)\n",
    "    n =  len(matrix)\n",
    "    m = int(n/k)\n",
    "    summation = 0\n",
    "    \n",
    "    for j in range(k):\n",
    "        mean_batch = np.mean(matrix[j*m:(j+1)*m])\n",
    "        summation += (mean_batch-mean)**2\n",
    "    \n",
    "    output = summation/(k*(k-1))\n",
    "    \n",
    "    return output"
   ]
  },
  {
   "cell_type": "code",
   "execution_count": 42,
   "metadata": {},
   "outputs": [
    {
     "name": "stdout",
     "output_type": "stream",
     "text": [
      "sigma_theta_MCSE=  8.507984155875154e-06\n",
      "sigma_e_MCSE=  1.9772030229086873e-06\n",
      "corr_confidence_MCSE=  8.308081467350761e-06\n"
     ]
    }
   ],
   "source": [
    "print('sigma_theta_MCSE= ', mcse(sigmatheta_matrix))\n",
    "print('sigma_e_MCSE= ', mcse(sigmae_matrix))\n",
    "print('corr_confidence_MCSE= ', mcse(corr_matrix))"
   ]
  },
  {
   "cell_type": "code",
   "execution_count": 43,
   "metadata": {},
   "outputs": [],
   "source": [
    "# intervalo de confiança assintotico\n",
    "def CI(matrix, k = 20, alpha = 0.95):\n",
    "    out_in = mcse(matrix, k = k)\n",
    "    return np.mean(matrix)-np.sqrt(out_in)*t.ppf(1-(1-alpha)/2, k-1), np.mean(matrix)+np.sqrt(out_in)*t.ppf(1-(1-alpha)/2, k-1)"
   ]
  },
  {
   "cell_type": "code",
   "execution_count": 44,
   "metadata": {},
   "outputs": [
    {
     "name": "stdout",
     "output_type": "stream",
     "text": [
      "sigma_theta_confidence_interval =  (0.18023676569753103, 0.19244681876428096)\n",
      "sigma_e_confidence_interval=  (0.6181754239110522, 0.6240615538906855)\n",
      "corr_confidence_interval=  (0.20277262363841697, 0.21483838102566172)\n"
     ]
    }
   ],
   "source": [
    "print('sigma_theta_confidence_interval = ', CI(sigmatheta_matrix)) \n",
    "print('sigma_e_confidence_interval= ', CI(sigmae_matrix)) \n",
    "print('corr_confidence_interval= ', CI(corr_matrix)) "
   ]
  },
  {
   "cell_type": "code",
   "execution_count": 51,
   "metadata": {},
   "outputs": [],
   "source": [
    "def ploting(matrix, skip = 1, interval = False, rang = None, subplot = False):\n",
    "    means = []\n",
    "    if interval == True:\n",
    "        upper_bound = []\n",
    "        lower_bound = []\n",
    "    \n",
    "    max_it = int(len(matrix)/skip)\n",
    "    num = []\n",
    "    for i in range(max_it):\n",
    "        means.append(np.mean(matrix[:i*skip+1]))\n",
    "        num.append(i*skip+1)\n",
    "        \n",
    "        if interval == True:\n",
    "            ci = CI(matrix[:i*skip+1])\n",
    "            lower_bound.append(ci[0])\n",
    "            upper_bound.append(ci[1])\n",
    "    \n",
    "    if subplot == False:\n",
    "        plt.plot(num, means)\n",
    "        plt.plot(num, np.mean(matrix)*np.ones(len(means)), 'r--')\n",
    "\n",
    "        if interval == True:\n",
    "            plt.plot(num, lower_bound, linestyle = 'solid', color = 'red', linewidth = 0.5)\n",
    "            plt.plot(num, upper_bound, linestyle = 'solid', color = 'red', linewidth = 0.5)\n",
    "            #plt.fill_between(num, lower_bound, upper_bound, color = 'red', alpha = 0.05)\n",
    "        if rang != None:\n",
    "            plt.ylim(rang)\n",
    "        plt.show()\n",
    "    else:\n",
    "        return num, means, np.mean(matrix)*np.ones(len(means))"
   ]
  },
  {
   "cell_type": "code",
   "execution_count": null,
   "metadata": {},
   "outputs": [
    {
     "name": "stderr",
     "output_type": "stream",
     "text": [
      "C:\\Users\\Julie\\anaconda3\\lib\\site-packages\\numpy\\core\\fromnumeric.py:3419: RuntimeWarning: Mean of empty slice.\n",
      "  return _methods._mean(a, axis=axis, dtype=dtype,\n",
      "C:\\Users\\Julie\\anaconda3\\lib\\site-packages\\numpy\\core\\_methods.py:188: RuntimeWarning: invalid value encountered in double_scalars\n",
      "  ret = ret.dtype.type(ret / rcount)\n"
     ]
    }
   ],
   "source": [
    "ploting(sigmatheta_matrix, skip = 100, rang = [0.1, 0.25], interval = True)"
   ]
  }
 ],
 "metadata": {
  "kernelspec": {
   "display_name": "Python 3",
   "language": "python",
   "name": "python3"
  },
  "language_info": {
   "codemirror_mode": {
    "name": "ipython",
    "version": 3
   },
   "file_extension": ".py",
   "mimetype": "text/x-python",
   "name": "python",
   "nbconvert_exporter": "python",
   "pygments_lexer": "ipython3",
   "version": "3.8.8"
  }
 },
 "nbformat": 4,
 "nbformat_minor": 4
}
